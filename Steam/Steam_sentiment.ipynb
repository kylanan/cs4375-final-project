{
 "cells": [
  {
   "cell_type": "markdown",
   "metadata": {
    "id": "gmRSHR_1bQ9H"
   },
   "source": [
    "# Using the Steam API Scraper"
   ]
  },
  {
   "cell_type": "markdown",
   "metadata": {
    "id": "TiKtKz_WvMqS"
   },
   "source": [
    "Honestly the hardest part for me for this whole project (was probably too ambitious), but I wanted to use Steam reviews as a baseline to see if a model can see if it's a positive or a negative review\n",
    "\n",
    "The idea here is to use a Steam API Scraper from this github post (https://github.com/israel-dryer/Steam-Game-Review-Scraper) for 5 different games, combine the datasets into one big dataframe, clean the data up, and then train the model using this data.\n",
    "\n",
    "The code doesn't really show the steps for each individual, but all of these steps were used to eventually get the 5 .csv's in the dataset folder one by one."
   ]
  },
  {
   "cell_type": "markdown",
   "metadata": {
    "id": "Oe1NS7CXnMu-"
   },
   "source": [
    "Installing Chrome in the Colab VM"
   ]
  },
  {
   "cell_type": "code",
   "execution_count": null,
   "metadata": {
    "id": "FFDgWfrrnKoM"
   },
   "outputs": [],
   "source": [
    "!apt update\n",
    "!apt install -y wget unzip\n",
    "!wget https://dl.google.com/linux/direct/google-chrome-stable_current_amd64.deb\n",
    "!dpkg -i google-chrome-stable_current_amd64.deb || apt -fy install\n",
    "\n",
    "!apt-get update\n",
    "!apt install -y chromium-chromedriver\n",
    "!cp /usr/lib/chromium-browser/chromedriver /usr/bin"
   ]
  },
  {
   "cell_type": "code",
   "execution_count": null,
   "metadata": {
    "id": "fGZxwqzovLZZ"
   },
   "outputs": [],
   "source": [
    "!pip install undetected-chromedriver selenium\n"
   ]
  },
  {
   "cell_type": "markdown",
   "metadata": {
    "id": "lPzpGDeSbb4a"
   },
   "source": [
    "Installing Selenium and verifying"
   ]
  },
  {
   "cell_type": "code",
   "execution_count": null,
   "metadata": {
    "id": "QupUlrZbbOJl"
   },
   "outputs": [],
   "source": [
    "!pip install -q selenium"
   ]
  },
  {
   "cell_type": "code",
   "execution_count": null,
   "metadata": {
    "id": "gqy8PJBXcBLd"
   },
   "outputs": [],
   "source": [
    "pip show selenium"
   ]
  },
  {
   "cell_type": "markdown",
   "metadata": {
    "id": "ufhtq3dkcKc0"
   },
   "source": [
    "Verifying that colab has OpenPYXL to save data to an Excel Spreadsheet"
   ]
  },
  {
   "cell_type": "code",
   "execution_count": null,
   "metadata": {
    "id": "_9e9iChscYsZ"
   },
   "outputs": [],
   "source": [
    "pip show openpyxl"
   ]
  },
  {
   "cell_type": "markdown",
   "metadata": {
    "id": "B96tqvncdKOn"
   },
   "source": [
    "Installing Chrome Driver to make this work better inside a notebook"
   ]
  },
  {
   "cell_type": "code",
   "execution_count": null,
   "metadata": {
    "id": "wxHi5ZJgdRvc"
   },
   "outputs": [],
   "source": [
    "!pip install webdriver-manager\n"
   ]
  },
  {
   "cell_type": "markdown",
   "metadata": {
    "id": "eEgh3mNddb8Z"
   },
   "source": [
    "import tools"
   ]
  },
  {
   "cell_type": "code",
   "execution_count": null,
   "metadata": {
    "id": "tCN7xAHNddqk"
   },
   "outputs": [],
   "source": [
    "from selenium import webdriver\n",
    "from selenium.webdriver.chrome.service import Service\n",
    "from selenium.webdriver.chrome.options import Options\n",
    "from webdriver_manager.chrome import ChromeDriverManager\n",
    "\n",
    "from selenium.webdriver.common.keys import Keys\n",
    "import re\n",
    "from time import sleep\n",
    "from datetime import datetime\n",
    "from openpyxl import Workbook\n",
    "import csv\n",
    "\n",
    "import undetected_chromedriver as uc\n",
    "from selenium.webdriver.common.by import By\n",
    "\n"
   ]
  },
  {
   "cell_type": "code",
   "execution_count": null,
   "metadata": {
    "id": "5Zi1JQFDm9Fy"
   },
   "outputs": [],
   "source": [
    "# Launch undetected Chrome\n",
    "options = uc.ChromeOptions()\n",
    "options.headless = True\n",
    "options.add_argument('--no-sandbox')\n",
    "options.add_argument('--disable-dev-shm-usage')\n",
    "\n",
    "driver = uc.Chrome(options=options)"
   ]
  },
  {
   "cell_type": "markdown",
   "metadata": {
    "id": "ed6JdvpHdt7O"
   },
   "source": [
    "Lookup game id on steam with the applied filters"
   ]
  },
  {
   "cell_type": "code",
   "execution_count": null,
   "metadata": {
    "colab": {
     "base_uri": "https://localhost:8080/"
    },
    "id": "ZFRTBTJFdpuj",
    "outputId": "f26a6673-60ce-4b3d-df1d-653251b7fa96"
   },
   "outputs": [
    {
     "name": "stdout",
     "output_type": "stream",
     "text": [
      "https://steamcommunity.com/app/413150/negativereviews/?browsefilter=trendyear&p=1\n"
     ]
    }
   ],
   "source": [
    "from selenium.webdriver.support.ui import WebDriverWait\n",
    "from selenium.webdriver.support import expected_conditions as EC\n",
    "\n",
    "# cs2 (730)\n",
    "# binding of isaac (250900)\n",
    "# mhwilds (2246340)\n",
    "# battlefield 2042 (1517290)\n",
    "# stardew valley (413150)\n",
    "\n",
    "game_id = 413150\n",
    "review_type = 'negative'\n",
    "\n",
    "url_template = 'https://steamcommunity.com/app/{}/{}reviews/?browsefilter=trendyear&p=1'\n",
    "\n",
    "url = url_template.format(game_id, review_type)\n",
    "\n",
    "driver.maximize_window()\n",
    "driver.get(url)\n",
    "\n",
    "print(url)\n"
   ]
  },
  {
   "cell_type": "markdown",
   "metadata": {
    "id": "WyqJUjVqosHr"
   },
   "source": [
    "Time to scrape data"
   ]
  },
  {
   "cell_type": "code",
   "execution_count": null,
   "metadata": {
    "id": "MM6VOhtiotju"
   },
   "outputs": [],
   "source": [
    "# get current position of y scrollbar\n",
    "last_position = driver.execute_script(\"return window.pageYOffset;\")\n",
    "\n",
    "reviews = []\n",
    "review_ids = set()\n",
    "running = True\n",
    "\n",
    "while len(reviews) < 501:\n",
    "    # get cards on the page\n",
    "    cards = driver.find_elements(By.CLASS_NAME, 'apphub_Card')\n",
    "\n",
    "    for card in cards[-20:]:  # only the tail end are new cards\n",
    "\n",
    "        # gamer profile url\n",
    "        profile_url = card.find_element(By.XPATH, './/div[@class=\"apphub_friend_block\"]/div/a[2]').get_attribute('href')\n",
    "\n",
    "        # steam id\n",
    "        steam_id = profile_url.split('/')[-2]\n",
    "\n",
    "        # check to see if I've already collected this review\n",
    "        if steam_id in review_ids:\n",
    "            continue\n",
    "        else:\n",
    "            review_ids.add(steam_id)\n",
    "\n",
    "        # username\n",
    "        user_name = card.find_element(By.XPATH, './/div[@class=\"apphub_friend_block\"]/div/a[2]').text\n",
    "\n",
    "        # language of the review\n",
    "        date_posted = card.find_element(By.XPATH, './/div[@class=\"apphub_CardTextContent\"]/div').text\n",
    "        review_content = card.find_element(By.XPATH, './/div[@class=\"apphub_CardTextContent\"]').text.replace(date_posted,'').strip()\n",
    "\n",
    "        # review length\n",
    "        review_length = len(review_content.replace(' ', ''))\n",
    "\n",
    "        # recommendation\n",
    "        thumb_text = card.find_element(By.XPATH, './/div[@class=\"reviewInfo\"]/div[2]').text\n",
    "\n",
    "        # amount of play hours\n",
    "        play_hours = card.find_element(By.XPATH, './/div[@class=\"reviewInfo\"]/div[3]').text\n",
    "\n",
    "        # save review\n",
    "        review = (steam_id, profile_url, review_content, thumb_text, review_length, play_hours, date_posted)\n",
    "        reviews.append(review)\n",
    "\n",
    "    # attempt to scroll down thrice.. then break\n",
    "    scroll_attempt = 0\n",
    "    while True:\n",
    "        driver.execute_script(\"window.scrollTo(0, document.body.scrollHeight);\")\n",
    "        sleep(0.5)\n",
    "        curr_position = driver.execute_script(\"return window.pageYOffset;\")\n",
    "\n",
    "        if curr_position == last_position:\n",
    "            scroll_attempt += 1\n",
    "            sleep(0.5)\n",
    "\n",
    "            if scroll_attempt >= 3:\n",
    "                running = False\n",
    "                break\n",
    "        else:\n",
    "            last_position = curr_position\n",
    "            break  # continue scraping the results\n",
    "\n",
    "# shutdown the web driver\n",
    "driver.close()\n"
   ]
  },
  {
   "cell_type": "markdown",
   "metadata": {
    "id": "C1MKc9lZqoFb"
   },
   "source": [
    "Saving the results to a Excel Spreadsheet"
   ]
  },
  {
   "cell_type": "code",
   "execution_count": null,
   "metadata": {
    "id": "LZR5tKNoqsJe"
   },
   "outputs": [],
   "source": [
    "# save the file to Excel Worksheet\n",
    "wb = Workbook()\n",
    "ws = wb.worksheets[0]\n",
    "ws.append(['SteamId', 'ProfileURL', 'ReviewText', 'Review', 'ReviewLength(Chars)', 'PlayHours', 'DatePosted'])\n",
    "for row in reviews:\n",
    "    ws.append(row)\n",
    "\n",
    "today = datetime.today().strftime('%Y%m%d')\n",
    "wb.save(f'Steam_Reviews_{game_id}_{today}.xlsx')\n",
    "wb.close()\n"
   ]
  },
  {
   "cell_type": "code",
   "execution_count": null,
   "metadata": {
    "id": "M5tdIX7PquZH"
   },
   "outputs": [],
   "source": [
    "# save the file to a CSV file\n",
    "today = datetime.today().strftime('%Y%m%d')\n",
    "with open(f'Steam_Reviews_{game_id}_{today}.csv', 'w', newline='', encoding='utf-8') as f:\n",
    "    writer = csv.writer(f)\n",
    "    writer.writerow(['SteamId', 'ProfileURL', 'ReviewText', 'Review', 'ReviewLength(Chars)', 'PlayHours', 'DatePosted'])\n",
    "    writer.writerows(reviews)\n"
   ]
  },
  {
   "cell_type": "markdown",
   "metadata": {
    "id": "h7yilRuTQGoB"
   },
   "source": [
    "# Training the models"
   ]
  },
  {
   "cell_type": "markdown",
   "metadata": {
    "id": "yfjLhpy3QQFf"
   },
   "source": [
    "Preprocessing Text Data in .csv with tokenization, stop-word removal, and lemmatization via script"
   ]
  },
  {
   "cell_type": "markdown",
   "metadata": {
    "id": "eLKfjwd_RId8"
   },
   "source": [
    "Import and load spreadsheet"
   ]
  },
  {
   "cell_type": "code",
   "execution_count": null,
   "metadata": {
    "id": "c9HwQ6CGVuAL"
   },
   "outputs": [],
   "source": [
    "import pandas as pd\n",
    "import re\n",
    "from nltk.corpus import stopwords\n",
    "from nltk.stem import WordNetLemmatizer\n",
    "from nltk.tokenize import word_tokenize\n",
    "\n",
    "import nltk\n",
    "nltk.download('punkt')\n",
    "nltk.download('stopwords')\n",
    "nltk.download('wordnet')\n",
    "nltk.download('punkt_tab')"
   ]
  },
  {
   "cell_type": "code",
   "execution_count": 58,
   "metadata": {
    "colab": {
     "base_uri": "https://localhost:8080/",
     "height": 628
    },
    "id": "5nX3JRTqQRZ5",
    "outputId": "c60980e2-e4fd-4324-b303-80525a8af124"
   },
   "outputs": [
    {
     "name": "stderr",
     "output_type": "stream",
     "text": [
      "<ipython-input-58-77574a921d4e>:31: FutureWarning: Downcasting behavior in `replace` is deprecated and will be removed in a future version. To retain the old behavior, explicitly call `result.infer_objects(copy=False)`. To opt-in to the future behavior, set `pd.set_option('future.no_silent_downcasting', True)`\n",
      "  df[\"label\"] = df[label_col].replace({\n",
      "<ipython-input-58-77574a921d4e>:31: FutureWarning: Downcasting behavior in `replace` is deprecated and will be removed in a future version. To retain the old behavior, explicitly call `result.infer_objects(copy=False)`. To opt-in to the future behavior, set `pd.set_option('future.no_silent_downcasting', True)`\n",
      "  df[\"label\"] = df[label_col].replace({\n",
      "<ipython-input-58-77574a921d4e>:31: FutureWarning: Downcasting behavior in `replace` is deprecated and will be removed in a future version. To retain the old behavior, explicitly call `result.infer_objects(copy=False)`. To opt-in to the future behavior, set `pd.set_option('future.no_silent_downcasting', True)`\n",
      "  df[\"label\"] = df[label_col].replace({\n",
      "<ipython-input-58-77574a921d4e>:31: FutureWarning: Downcasting behavior in `replace` is deprecated and will be removed in a future version. To retain the old behavior, explicitly call `result.infer_objects(copy=False)`. To opt-in to the future behavior, set `pd.set_option('future.no_silent_downcasting', True)`\n",
      "  df[\"label\"] = df[label_col].replace({\n",
      "<ipython-input-58-77574a921d4e>:31: FutureWarning: Downcasting behavior in `replace` is deprecated and will be removed in a future version. To retain the old behavior, explicitly call `result.infer_objects(copy=False)`. To opt-in to the future behavior, set `pd.set_option('future.no_silent_downcasting', True)`\n",
      "  df[\"label\"] = df[label_col].replace({\n"
     ]
    },
    {
     "data": {
      "application/vnd.google.colaboratory.intrinsic+json": {
       "summary": "{\n  \"name\": \"df[[\\\"text\\\", \\\"label\\\"]] # The columns I'll be focusing on for sentimental analysis\",\n  \"rows\": 5000,\n  \"fields\": [\n    {\n      \"column\": \"text\",\n      \"properties\": {\n        \"dtype\": \"string\",\n        \"num_unique_values\": 4580,\n        \"samples\": [\n          \"looking relaxing chill time well kinda right person cant go minecraft mine without turning gamemode peaceful mine make stressful otherwise amaizing time love character really want romance wizard thats secondary people community really creative wholesome great expirience\",\n          \"game somehow boring overwhelming time gg\",\n          \"walking one place another limited time simulator\"\n        ],\n        \"semantic_type\": \"\",\n        \"description\": \"\"\n      }\n    },\n    {\n      \"column\": \"label\",\n      \"properties\": {\n        \"dtype\": \"number\",\n        \"std\": 0,\n        \"min\": 0,\n        \"max\": 1,\n        \"num_unique_values\": 2,\n        \"samples\": [\n          1,\n          0\n        ],\n        \"semantic_type\": \"\",\n        \"description\": \"\"\n      }\n    }\n  ]\n}",
       "type": "dataframe"
      },
      "text/html": [
       "\n",
       "  <div id=\"df-1ee5aff3-9768-49a4-a92f-cd6ceeb62e90\" class=\"colab-df-container\">\n",
       "    <div>\n",
       "<style scoped>\n",
       "    .dataframe tbody tr th:only-of-type {\n",
       "        vertical-align: middle;\n",
       "    }\n",
       "\n",
       "    .dataframe tbody tr th {\n",
       "        vertical-align: top;\n",
       "    }\n",
       "\n",
       "    .dataframe thead th {\n",
       "        text-align: right;\n",
       "    }\n",
       "</style>\n",
       "<table border=\"1\" class=\"dataframe\">\n",
       "  <thead>\n",
       "    <tr style=\"text-align: right;\">\n",
       "      <th></th>\n",
       "      <th>text</th>\n",
       "      <th>label</th>\n",
       "    </tr>\n",
       "  </thead>\n",
       "  <tbody>\n",
       "    <tr>\n",
       "      <th>0</th>\n",
       "      <td>youll find less cheater tinder</td>\n",
       "      <td>0</td>\n",
       "    </tr>\n",
       "    <tr>\n",
       "      <th>1</th>\n",
       "      <td>saddens billion dollar revenue game doesnt pro...</td>\n",
       "      <td>0</td>\n",
       "    </tr>\n",
       "    <tr>\n",
       "      <th>2</th>\n",
       "      <td>year passed armory update cash grab real gamep...</td>\n",
       "      <td>0</td>\n",
       "    </tr>\n",
       "    <tr>\n",
       "      <th>3</th>\n",
       "      <td>terrible anti cheat people getting false ban h...</td>\n",
       "      <td>0</td>\n",
       "    </tr>\n",
       "    <tr>\n",
       "      <th>4</th>\n",
       "      <td>semi rage cheater wallhackers detected valve s...</td>\n",
       "      <td>0</td>\n",
       "    </tr>\n",
       "    <tr>\n",
       "      <th>...</th>\n",
       "      <td>...</td>\n",
       "      <td>...</td>\n",
       "    </tr>\n",
       "    <tr>\n",
       "      <th>4995</th>\n",
       "      <td>game comfort game wife many year mod community...</td>\n",
       "      <td>1</td>\n",
       "    </tr>\n",
       "    <tr>\n",
       "      <th>4996</th>\n",
       "      <td>sinistro</td>\n",
       "      <td>1</td>\n",
       "    </tr>\n",
       "    <tr>\n",
       "      <th>4997</th>\n",
       "      <td>mum really like game</td>\n",
       "      <td>1</td>\n",
       "    </tr>\n",
       "    <tr>\n",
       "      <th>4998</th>\n",
       "      <td></td>\n",
       "      <td>1</td>\n",
       "    </tr>\n",
       "    <tr>\n",
       "      <th>4999</th>\n",
       "      <td>absolutely love game history rich beautiful pi...</td>\n",
       "      <td>1</td>\n",
       "    </tr>\n",
       "  </tbody>\n",
       "</table>\n",
       "<p>5000 rows × 2 columns</p>\n",
       "</div>\n",
       "    <div class=\"colab-df-buttons\">\n",
       "\n",
       "  <div class=\"colab-df-container\">\n",
       "    <button class=\"colab-df-convert\" onclick=\"convertToInteractive('df-1ee5aff3-9768-49a4-a92f-cd6ceeb62e90')\"\n",
       "            title=\"Convert this dataframe to an interactive table.\"\n",
       "            style=\"display:none;\">\n",
       "\n",
       "  <svg xmlns=\"http://www.w3.org/2000/svg\" height=\"24px\" viewBox=\"0 -960 960 960\">\n",
       "    <path d=\"M120-120v-720h720v720H120Zm60-500h600v-160H180v160Zm220 220h160v-160H400v160Zm0 220h160v-160H400v160ZM180-400h160v-160H180v160Zm440 0h160v-160H620v160ZM180-180h160v-160H180v160Zm440 0h160v-160H620v160Z\"/>\n",
       "  </svg>\n",
       "    </button>\n",
       "\n",
       "  <style>\n",
       "    .colab-df-container {\n",
       "      display:flex;\n",
       "      gap: 12px;\n",
       "    }\n",
       "\n",
       "    .colab-df-convert {\n",
       "      background-color: #E8F0FE;\n",
       "      border: none;\n",
       "      border-radius: 50%;\n",
       "      cursor: pointer;\n",
       "      display: none;\n",
       "      fill: #1967D2;\n",
       "      height: 32px;\n",
       "      padding: 0 0 0 0;\n",
       "      width: 32px;\n",
       "    }\n",
       "\n",
       "    .colab-df-convert:hover {\n",
       "      background-color: #E2EBFA;\n",
       "      box-shadow: 0px 1px 2px rgba(60, 64, 67, 0.3), 0px 1px 3px 1px rgba(60, 64, 67, 0.15);\n",
       "      fill: #174EA6;\n",
       "    }\n",
       "\n",
       "    .colab-df-buttons div {\n",
       "      margin-bottom: 4px;\n",
       "    }\n",
       "\n",
       "    [theme=dark] .colab-df-convert {\n",
       "      background-color: #3B4455;\n",
       "      fill: #D2E3FC;\n",
       "    }\n",
       "\n",
       "    [theme=dark] .colab-df-convert:hover {\n",
       "      background-color: #434B5C;\n",
       "      box-shadow: 0px 1px 3px 1px rgba(0, 0, 0, 0.15);\n",
       "      filter: drop-shadow(0px 1px 2px rgba(0, 0, 0, 0.3));\n",
       "      fill: #FFFFFF;\n",
       "    }\n",
       "  </style>\n",
       "\n",
       "    <script>\n",
       "      const buttonEl =\n",
       "        document.querySelector('#df-1ee5aff3-9768-49a4-a92f-cd6ceeb62e90 button.colab-df-convert');\n",
       "      buttonEl.style.display =\n",
       "        google.colab.kernel.accessAllowed ? 'block' : 'none';\n",
       "\n",
       "      async function convertToInteractive(key) {\n",
       "        const element = document.querySelector('#df-1ee5aff3-9768-49a4-a92f-cd6ceeb62e90');\n",
       "        const dataTable =\n",
       "          await google.colab.kernel.invokeFunction('convertToInteractive',\n",
       "                                                    [key], {});\n",
       "        if (!dataTable) return;\n",
       "\n",
       "        const docLinkHtml = 'Like what you see? Visit the ' +\n",
       "          '<a target=\"_blank\" href=https://colab.research.google.com/notebooks/data_table.ipynb>data table notebook</a>'\n",
       "          + ' to learn more about interactive tables.';\n",
       "        element.innerHTML = '';\n",
       "        dataTable['output_type'] = 'display_data';\n",
       "        await google.colab.output.renderOutput(dataTable, element);\n",
       "        const docLink = document.createElement('div');\n",
       "        docLink.innerHTML = docLinkHtml;\n",
       "        element.appendChild(docLink);\n",
       "      }\n",
       "    </script>\n",
       "  </div>\n",
       "\n",
       "\n",
       "    <div id=\"df-eac8d8af-3545-4bae-b5d8-e49b409861c2\">\n",
       "      <button class=\"colab-df-quickchart\" onclick=\"quickchart('df-eac8d8af-3545-4bae-b5d8-e49b409861c2')\"\n",
       "                title=\"Suggest charts\"\n",
       "                style=\"display:none;\">\n",
       "\n",
       "<svg xmlns=\"http://www.w3.org/2000/svg\" height=\"24px\"viewBox=\"0 0 24 24\"\n",
       "     width=\"24px\">\n",
       "    <g>\n",
       "        <path d=\"M19 3H5c-1.1 0-2 .9-2 2v14c0 1.1.9 2 2 2h14c1.1 0 2-.9 2-2V5c0-1.1-.9-2-2-2zM9 17H7v-7h2v7zm4 0h-2V7h2v10zm4 0h-2v-4h2v4z\"/>\n",
       "    </g>\n",
       "</svg>\n",
       "      </button>\n",
       "\n",
       "<style>\n",
       "  .colab-df-quickchart {\n",
       "      --bg-color: #E8F0FE;\n",
       "      --fill-color: #1967D2;\n",
       "      --hover-bg-color: #E2EBFA;\n",
       "      --hover-fill-color: #174EA6;\n",
       "      --disabled-fill-color: #AAA;\n",
       "      --disabled-bg-color: #DDD;\n",
       "  }\n",
       "\n",
       "  [theme=dark] .colab-df-quickchart {\n",
       "      --bg-color: #3B4455;\n",
       "      --fill-color: #D2E3FC;\n",
       "      --hover-bg-color: #434B5C;\n",
       "      --hover-fill-color: #FFFFFF;\n",
       "      --disabled-bg-color: #3B4455;\n",
       "      --disabled-fill-color: #666;\n",
       "  }\n",
       "\n",
       "  .colab-df-quickchart {\n",
       "    background-color: var(--bg-color);\n",
       "    border: none;\n",
       "    border-radius: 50%;\n",
       "    cursor: pointer;\n",
       "    display: none;\n",
       "    fill: var(--fill-color);\n",
       "    height: 32px;\n",
       "    padding: 0;\n",
       "    width: 32px;\n",
       "  }\n",
       "\n",
       "  .colab-df-quickchart:hover {\n",
       "    background-color: var(--hover-bg-color);\n",
       "    box-shadow: 0 1px 2px rgba(60, 64, 67, 0.3), 0 1px 3px 1px rgba(60, 64, 67, 0.15);\n",
       "    fill: var(--button-hover-fill-color);\n",
       "  }\n",
       "\n",
       "  .colab-df-quickchart-complete:disabled,\n",
       "  .colab-df-quickchart-complete:disabled:hover {\n",
       "    background-color: var(--disabled-bg-color);\n",
       "    fill: var(--disabled-fill-color);\n",
       "    box-shadow: none;\n",
       "  }\n",
       "\n",
       "  .colab-df-spinner {\n",
       "    border: 2px solid var(--fill-color);\n",
       "    border-color: transparent;\n",
       "    border-bottom-color: var(--fill-color);\n",
       "    animation:\n",
       "      spin 1s steps(1) infinite;\n",
       "  }\n",
       "\n",
       "  @keyframes spin {\n",
       "    0% {\n",
       "      border-color: transparent;\n",
       "      border-bottom-color: var(--fill-color);\n",
       "      border-left-color: var(--fill-color);\n",
       "    }\n",
       "    20% {\n",
       "      border-color: transparent;\n",
       "      border-left-color: var(--fill-color);\n",
       "      border-top-color: var(--fill-color);\n",
       "    }\n",
       "    30% {\n",
       "      border-color: transparent;\n",
       "      border-left-color: var(--fill-color);\n",
       "      border-top-color: var(--fill-color);\n",
       "      border-right-color: var(--fill-color);\n",
       "    }\n",
       "    40% {\n",
       "      border-color: transparent;\n",
       "      border-right-color: var(--fill-color);\n",
       "      border-top-color: var(--fill-color);\n",
       "    }\n",
       "    60% {\n",
       "      border-color: transparent;\n",
       "      border-right-color: var(--fill-color);\n",
       "    }\n",
       "    80% {\n",
       "      border-color: transparent;\n",
       "      border-right-color: var(--fill-color);\n",
       "      border-bottom-color: var(--fill-color);\n",
       "    }\n",
       "    90% {\n",
       "      border-color: transparent;\n",
       "      border-bottom-color: var(--fill-color);\n",
       "    }\n",
       "  }\n",
       "</style>\n",
       "\n",
       "      <script>\n",
       "        async function quickchart(key) {\n",
       "          const quickchartButtonEl =\n",
       "            document.querySelector('#' + key + ' button');\n",
       "          quickchartButtonEl.disabled = true;  // To prevent multiple clicks.\n",
       "          quickchartButtonEl.classList.add('colab-df-spinner');\n",
       "          try {\n",
       "            const charts = await google.colab.kernel.invokeFunction(\n",
       "                'suggestCharts', [key], {});\n",
       "          } catch (error) {\n",
       "            console.error('Error during call to suggestCharts:', error);\n",
       "          }\n",
       "          quickchartButtonEl.classList.remove('colab-df-spinner');\n",
       "          quickchartButtonEl.classList.add('colab-df-quickchart-complete');\n",
       "        }\n",
       "        (() => {\n",
       "          let quickchartButtonEl =\n",
       "            document.querySelector('#df-eac8d8af-3545-4bae-b5d8-e49b409861c2 button');\n",
       "          quickchartButtonEl.style.display =\n",
       "            google.colab.kernel.accessAllowed ? 'block' : 'none';\n",
       "        })();\n",
       "      </script>\n",
       "    </div>\n",
       "\n",
       "    </div>\n",
       "  </div>\n"
      ],
      "text/plain": [
       "                                                   text  label\n",
       "0                        youll find less cheater tinder      0\n",
       "1     saddens billion dollar revenue game doesnt pro...      0\n",
       "2     year passed armory update cash grab real gamep...      0\n",
       "3     terrible anti cheat people getting false ban h...      0\n",
       "4     semi rage cheater wallhackers detected valve s...      0\n",
       "...                                                 ...    ...\n",
       "4995  game comfort game wife many year mod community...      1\n",
       "4996                                           sinistro      1\n",
       "4997                               mum really like game      1\n",
       "4998                                                         1\n",
       "4999  absolutely love game history rich beautiful pi...      1\n",
       "\n",
       "[5000 rows x 2 columns]"
      ]
     },
     "execution_count": 58,
     "metadata": {},
     "output_type": "execute_result"
    }
   ],
   "source": [
    "# Load spreadsheet\n",
    "df_cs2 = pd.read_csv('CS2.csv')\n",
    "df_bf = pd.read_csv('Battlefield 2042.csv')\n",
    "df_boi = pd.read_csv('Binding of Isaac Rebirth.csv')\n",
    "df_mhwilds = pd.read_csv('MHWilds.csv')\n",
    "df_sdv = pd.read_csv('Stardew Valley.csv')\n",
    "\n",
    "# Set up preprocessing tools\n",
    "lemmatizer = WordNetLemmatizer()\n",
    "stop_words = set(stopwords.words(\"english\"))\n",
    "\n",
    "# Define the text cleaning function\n",
    "def preprocess(text):\n",
    "    if pd.isnull(text):\n",
    "        return \"\"\n",
    "    text = text.lower()  # lowercase\n",
    "    text = re.sub(r\"[^a-z\\s]\", \"\", text)  # remove punctuation and numbers\n",
    "    tokens = word_tokenize(text)\n",
    "    tokens = [word for word in tokens if word not in stop_words]  # remove stopwords\n",
    "    tokens = [lemmatizer.lemmatize(word) for word in tokens]  # lemmatize\n",
    "    # return tokens;\n",
    "    return \" \".join(tokens)\n",
    "\n",
    "# Making my life easier for merging multiple .csv's\n",
    "def clean_df(df, text_col=\"ReviewText\", label_col=\"Review\"):\n",
    "    # Applying the preprocessing\n",
    "    df[\"text\"] = df[text_col].apply(preprocess)\n",
    "    # Label Recommended or Not Recommended as 1 or -1 respectively in a new \"Ratings\" Column\n",
    "    # Not Recommended = 0\n",
    "    # Recommended = 1\n",
    "    df[\"label\"] = df[label_col].replace({\n",
    "        \"Recommended\": 1,\n",
    "        \"Not Recommended\": 0\n",
    "    })\n",
    "    return df[[\"text\", \"label\"]]\n",
    "\n",
    "# cleaning up all the .csv's and combining them into one dataframe\n",
    "df_cs2_clean = clean_df(df_cs2)\n",
    "df_bf_clean = clean_df(df_bf)\n",
    "df_boi_clean = clean_df(df_boi)\n",
    "df_mhwilds_clean = clean_df(df_mhwilds)\n",
    "df_sdv_clean = clean_df(df_sdv)\n",
    "\n",
    "df = pd.concat([df_cs2_clean, df_bf_clean, df_boi_clean, df_mhwilds_clean, df_sdv_clean], ignore_index=True)\n",
    "\n",
    "df[[\"text\", \"label\"]] # The columns I'll be focusing on for sentimental analysis"
   ]
  },
  {
   "cell_type": "markdown",
   "metadata": {
    "id": "AXDF_UrFaKaj"
   },
   "source": [
    "Visualizing word frequencies to make sure no outliers will bother the data"
   ]
  },
  {
   "cell_type": "code",
   "execution_count": 59,
   "metadata": {
    "colab": {
     "base_uri": "https://localhost:8080/",
     "height": 1000
    },
    "id": "fbW0CODjaD_M",
    "outputId": "f3d7b774-20bb-464a-ed6e-3e07bb87ed63"
   },
   "outputs": [
    {
     "data": {
      "image/png": "[encoded data removed]",
      "text/plain": [
       "<Figure size 640x480 with 1 Axes>"
      ]
     },
     "metadata": {},
     "output_type": "display_data"
    },
    {
     "name": "stdout",
     "output_type": "stream",
     "text": [
      "\n",
      "\n",
      "Number of unique words: 14833\n",
      "\n",
      "\n"
     ]
    },
    {
     "data": {
      "image/png": "[encoded data removed]",
      "text/plain": [
       "<Figure size 1000x500 with 1 Axes>"
      ]
     },
     "metadata": {},
     "output_type": "display_data"
    }
   ],
   "source": [
    "from collections import Counter\n",
    "import matplotlib.pyplot as plt\n",
    "\n",
    "#Class distribution: check how many texts belong to each class\n",
    "#  Text length: analyze the distribution of text lengths (number of words, characters).\n",
    "#  Word count: calculate the total number of unique words across the corpus.\n",
    "#  Most common words: find frequent words across all texts, which can give insights into the vocabulary.\n",
    "#  Visualization:\n",
    "#      Bar plots of top N words: Useful to show the most frequent words across the dataset.\n",
    "\n",
    "\n",
    "# Flatten all text into a single list and count frequencies\n",
    "all_text = [word for tokens in df['text'] for word in tokens.split()]\n",
    "text_counts = Counter(all_text)\n",
    "\n",
    "#  Text length: analyze the distribution of text lengths (number of words, characters).\n",
    "# We do this by plotting the distribution of number of words per review\n",
    "\n",
    "\n",
    "# Calculate word frequency per document\n",
    "word_freq_per_doc = [len(tokens.split()) for tokens in df['text']]\n",
    "\n",
    "plt.hist(word_freq_per_doc, bins=30)\n",
    "plt.title(\"Review Length Distribution (Word Count)\")\n",
    "plt.xlabel(\"Number of Words\")\n",
    "plt.ylabel(\"Number of Reviews\")\n",
    "plt.show()\n",
    "\n",
    "\n",
    "\n",
    "# Number of unique words\n",
    "#  Word count: calculate the total number of unique words across the corpus.\n",
    "num_unique_words = len(set(all_text))\n",
    "print(f\"\\n\\nNumber of unique words: {num_unique_words}\\n\\n\")\n",
    "\n",
    "# Plot the most common words\n",
    "#  Most common words: find frequent words across all texts, which can give insights into the vocabulary.\n",
    "common_words = text_counts.most_common(20)\n",
    "words, counts = zip(*common_words)\n",
    "\n",
    "# Displaying in graph\n",
    "plt.figure(figsize=(10, 5))\n",
    "plt.bar(words, counts)\n",
    "plt.xticks(rotation=45)\n",
    "plt.title(\"Top 20 Most Frequent Words\")\n",
    "plt.show()\n",
    "\n",
    "\n"
   ]
  },
  {
   "cell_type": "markdown",
   "metadata": {
    "id": "L5R_G5hA1fPw"
   },
   "source": [
    "Transforming the text data using TF-IDF then splitting into Training/Test Sets"
   ]
  },
  {
   "cell_type": "code",
   "execution_count": 60,
   "metadata": {
    "colab": {
     "base_uri": "https://localhost:8080/"
    },
    "id": "VDnheiCfYmul",
    "outputId": "61780b37-fb17-4c22-eaa1-ba2b6bf22afa"
   },
   "outputs": [
    {
     "name": "stdout",
     "output_type": "stream",
     "text": [
      "Training set features (x_train): (4000, 14810)\n",
      "Test set features (x_test): (1000, 14810)\n",
      "Training set target (y_train): (4000,)\n",
      "Test set target (y_test): (1000,)\n"
     ]
    }
   ],
   "source": [
    "from sklearn.feature_extraction.text import CountVectorizer, TfidfVectorizer\n",
    "\n",
    "# TF-IDF extraction\n",
    "vectorizer = TfidfVectorizer()  # Use CountVectorizer() for BoW\n",
    "\n",
    "# Fit and transform the text data\n",
    "X = vectorizer.fit_transform(df['text'])\n",
    "y = df[\"label\"]\n",
    "\n",
    "\n",
    "from sklearn.model_selection import train_test_split\n",
    "\n",
    "# splitting into train and test data\n",
    "X_train, X_test, y_train, y_test = train_test_split(\n",
    "    X, y, stratify=y, test_size=0.2, random_state=30\n",
    ")\n",
    "\n",
    "# Print the shapes of the splits to check if the splits were successful\n",
    "print(f\"Training set features (x_train): {X_train.shape}\")\n",
    "print(f\"Test set features (x_test): {X_test.shape}\")\n",
    "print(f\"Training set target (y_train): {y_train.shape}\")\n",
    "print(f\"Test set target (y_test): {y_test.shape}\")"
   ]
  },
  {
   "cell_type": "markdown",
   "metadata": {
    "id": "wALvLnb7v3Q1"
   },
   "source": [
    "LogisticRegression Model"
   ]
  },
  {
   "cell_type": "code",
   "execution_count": 61,
   "metadata": {
    "colab": {
     "base_uri": "https://localhost:8080/"
    },
    "id": "zQOaUeedfzrw",
    "outputId": "efd56b0f-d3ed-4b68-9b6d-2b34791a0cf8"
   },
   "outputs": [
    {
     "name": "stdout",
     "output_type": "stream",
     "text": [
      "Logistic Regression\t Train Accuracy: 0.88650\t Test Accuracy: 0.75800\n",
      "Classification Report:\n",
      "               precision    recall  f1-score   support\n",
      "\n",
      "           0       0.77      0.74      0.75       500\n",
      "           1       0.75      0.78      0.76       500\n",
      "\n",
      "    accuracy                           0.76      1000\n",
      "   macro avg       0.76      0.76      0.76      1000\n",
      "weighted avg       0.76      0.76      0.76      1000\n",
      "\n"
     ]
    }
   ],
   "source": [
    "from sklearn.linear_model import LogisticRegression\n",
    "from sklearn.metrics import accuracy_score, classification_report\n",
    "\n",
    "# Logistic Regression\n",
    "lr_model = LogisticRegression()\n",
    "lr_model.fit(X_train, y_train)\n",
    "\n",
    "# Predictions\n",
    "y_pred_lr_train = lr_model.predict(X_train)\n",
    "y_pred_lr_test = lr_model.predict(X_test)\n",
    "\n",
    "# Accuracy scores\n",
    "lr_train_accuracy = accuracy_score(y_train, y_pred_lr_train)\n",
    "lr_test_accuracy = accuracy_score(y_test, y_pred_lr_test)\n",
    "\n",
    "# Print formatted output\n",
    "print(\"Logistic Regression\\t Train Accuracy: {:.5f}\\t Test Accuracy: {:.5f}\".format(lr_train_accuracy, lr_test_accuracy))\n",
    "\n",
    "# print classification report\n",
    "print(\"Classification Report:\\n\", classification_report(y_test, y_pred_lr_test))\n"
   ]
  },
  {
   "cell_type": "markdown",
   "metadata": {
    "id": "4fn9Y_Xwv5wt"
   },
   "source": [
    "LinearSVC (Linear Support Vector Classification) Model"
   ]
  },
  {
   "cell_type": "code",
   "execution_count": 62,
   "metadata": {
    "colab": {
     "base_uri": "https://localhost:8080/"
    },
    "id": "TI7zZDf7v9l7",
    "outputId": "56b79e32-45ec-439a-ef32-44dc119cc6d1"
   },
   "outputs": [
    {
     "name": "stdout",
     "output_type": "stream",
     "text": [
      "Linear SVC\t Train Accuracy: 0.95550\t Test Accuracy: 0.73800\n",
      "Classification Report:\n",
      "               precision    recall  f1-score   support\n",
      "\n",
      "           0       0.75      0.71      0.73       500\n",
      "           1       0.73      0.76      0.74       500\n",
      "\n",
      "    accuracy                           0.74      1000\n",
      "   macro avg       0.74      0.74      0.74      1000\n",
      "weighted avg       0.74      0.74      0.74      1000\n",
      "\n"
     ]
    }
   ],
   "source": [
    "from sklearn.svm import LinearSVC\n",
    "\n",
    "# LinearSVC\n",
    "lsvc_model = LinearSVC()\n",
    "lsvc_model.fit(X_train, y_train)\n",
    "\n",
    "# Predictions\n",
    "y_pred_lsvc_train = lsvc_model.predict(X_train)\n",
    "y_pred_lsvc_test = lsvc_model.predict(X_test)\n",
    "\n",
    "# Accuracy scores\n",
    "lsvc_train_accuracy = accuracy_score(y_train, y_pred_lsvc_train)\n",
    "lsvc_test_accuracy = accuracy_score(y_test, y_pred_lsvc_test)\n",
    "\n",
    "# Print formatted output\n",
    "print(\"Linear SVC\\t Train Accuracy: {:.5f}\\t Test Accuracy: {:.5f}\".format(lsvc_train_accuracy, lsvc_test_accuracy))\n",
    "\n",
    "# print classification report\n",
    "print(\"Classification Report:\\n\", classification_report(y_test, y_pred_lsvc_test))\n"
   ]
  },
  {
   "cell_type": "markdown",
   "metadata": {
    "id": "iax1xJKtxHdY"
   },
   "source": [
    "SGDClassifier (Stochastic Gradient Descent) Model"
   ]
  },
  {
   "cell_type": "code",
   "execution_count": 63,
   "metadata": {
    "colab": {
     "base_uri": "https://localhost:8080/"
    },
    "id": "8FM1QMDawK9N",
    "outputId": "7fbe9af1-06c3-43db-cfae-d4cac83cad90"
   },
   "outputs": [
    {
     "name": "stdout",
     "output_type": "stream",
     "text": [
      "SGDC Classifier\t Train Accuracy: 0.94575\t Test Accuracy: 0.72400\n",
      "Classification Report:\n",
      "               precision    recall  f1-score   support\n",
      "\n",
      "           0       0.74      0.69      0.71       500\n",
      "           1       0.71      0.76      0.73       500\n",
      "\n",
      "    accuracy                           0.72      1000\n",
      "   macro avg       0.73      0.72      0.72      1000\n",
      "weighted avg       0.73      0.72      0.72      1000\n",
      "\n"
     ]
    }
   ],
   "source": [
    "from sklearn.linear_model import SGDClassifier\n",
    "\n",
    "# SGDClassifier\n",
    "sgdc_model = SGDClassifier(loss='hinge', max_iter=1000, random_state=30)\n",
    "sgdc_model.fit(X_train, y_train)\n",
    "\n",
    "# Predictions\n",
    "y_pred_sgdc_train = sgdc_model.predict(X_train)\n",
    "y_pred_sgdc_test = sgdc_model.predict(X_test)\n",
    "\n",
    "# Accuracy scores\n",
    "sgdc_train_accuracy = accuracy_score(y_train, y_pred_sgdc_train)\n",
    "sgdc_test_accuracy = accuracy_score(y_test, y_pred_sgdc_test)\n",
    "\n",
    "# Print formatted output\n",
    "print(\"SGDC Classifier\\t Train Accuracy: {:.5f}\\t Test Accuracy: {:.5f}\".format(sgdc_train_accuracy, sgdc_test_accuracy))\n",
    "\n",
    "# print classification report\n",
    "print(\"Classification Report:\\n\", classification_report(y_test, y_pred_sgdc_test))\n"
   ]
  },
  {
   "cell_type": "markdown",
   "metadata": {
    "id": "TdI_9jhLxKqY"
   },
   "source": [
    "Naive Bayes - MultinomialNB Model"
   ]
  },
  {
   "cell_type": "code",
   "execution_count": 64,
   "metadata": {
    "colab": {
     "base_uri": "https://localhost:8080/"
    },
    "id": "unU_D7XWwQuH",
    "outputId": "ac11a82c-fd36-43e0-89de-b291db40d7df"
   },
   "outputs": [
    {
     "name": "stdout",
     "output_type": "stream",
     "text": [
      "Naive Bayes Classifier\t Train Accuracy: 0.88700\t Test Accuracy: 0.74000\n",
      "Classification Report:\n",
      "               precision    recall  f1-score   support\n",
      "\n",
      "           0       0.72      0.78      0.75       500\n",
      "           1       0.76      0.70      0.73       500\n",
      "\n",
      "    accuracy                           0.74      1000\n",
      "   macro avg       0.74      0.74      0.74      1000\n",
      "weighted avg       0.74      0.74      0.74      1000\n",
      "\n"
     ]
    }
   ],
   "source": [
    "from sklearn.naive_bayes import MultinomialNB\n",
    "\n",
    "# Naive Bayes\n",
    "mnb_model = MultinomialNB()\n",
    "mnb_model.fit(X_train, y_train)\n",
    "\n",
    "# Predictions\n",
    "y_pred_mnb_train = mnb_model.predict(X_train)\n",
    "y_pred_mnb_test = mnb_model.predict(X_test)\n",
    "\n",
    "# Accuracy scores\n",
    "mnb_train_accuracy = accuracy_score(y_train, y_pred_mnb_train)\n",
    "mnb_test_accuracy = accuracy_score(y_test, y_pred_mnb_test)\n",
    "\n",
    "# Print formatted output\n",
    "print(\"Naive Bayes Classifier\\t Train Accuracy: {:.5f}\\t Test Accuracy: {:.5f}\".format(mnb_train_accuracy, mnb_test_accuracy))\n",
    "\n",
    "# print classification report\n",
    "print(\"Classification Report:\\n\", classification_report(y_test, y_pred_mnb_test))\n"
   ]
  },
  {
   "cell_type": "markdown",
   "metadata": {
    "id": "-PtH4dxDxTER"
   },
   "source": [
    "Total Outputs"
   ]
  },
  {
   "cell_type": "code",
   "execution_count": 65,
   "metadata": {
    "colab": {
     "base_uri": "https://localhost:8080/"
    },
    "id": "8YrYeCPaxS0q",
    "outputId": "6961faeb-2a22-4598-9078-d06b58343cdc"
   },
   "outputs": [
    {
     "name": "stdout",
     "output_type": "stream",
     "text": [
      "Model                          Train Accuracy       Test Accuracy       \n",
      "----------------------------------------------------------------------\n",
      "Logistic Regression            0.88650              0.75800\n",
      "Linear SVC                     0.95550              0.73800\n",
      "SGD Classifier                 0.94575              0.72400\n",
      "Naive Bayes                    0.88700              0.74000\n"
     ]
    }
   ],
   "source": [
    "# Print formatted output\n",
    "print(\"{:<30} {:<20} {:<20}\".format(\"Model\", \"Train Accuracy\", \"Test Accuracy\"))\n",
    "print(\"-\" * 70)\n",
    "\n",
    "print(\"{:<30} {:.5f} {:>20.5f}\".format(\"Logistic Regression\", lr_train_accuracy, lr_test_accuracy))\n",
    "print(\"{:<30} {:.5f} {:>20.5f}\".format(\"Linear SVC\", lsvc_train_accuracy, lsvc_test_accuracy))\n",
    "print(\"{:<30} {:.5f} {:>20.5f}\".format(\"SGD Classifier\", sgdc_train_accuracy, sgdc_test_accuracy))\n",
    "print(\"{:<30} {:.5f} {:>20.5f}\".format(\"Naive Bayes\", mnb_train_accuracy, mnb_test_accuracy))\n"
   ]
  },
  {
   "cell_type": "markdown",
   "metadata": {
    "id": "qnShmsjEomrj"
   },
   "source": [
    "Tuning the hyperparameters of each classifiers to their optimal value using GridSearch"
   ]
  },
  {
   "cell_type": "code",
   "execution_count": 66,
   "metadata": {
    "colab": {
     "base_uri": "https://localhost:8080/"
    },
    "id": "3Mb_zneJQvHH",
    "outputId": "8730fa71-4182-44d3-9c75-c253d10a9ae1"
   },
   "outputs": [
    {
     "name": "stdout",
     "output_type": "stream",
     "text": [
      "Testing for hyperparameters:\n",
      "---------------------------------------------------------\n",
      "Logistic Regression:\n",
      "max_iter: 500\n",
      "solver: 'newton-cg'\n",
      "---------------------------------------------------------\n",
      "Logistic Regression\t Train Accuracy: 0.88650\t Test Accuracy: 0.75800\n",
      "Classification Report:\n",
      "               precision    recall  f1-score   support\n",
      "\n",
      "           0       0.77      0.74      0.75       500\n",
      "           1       0.75      0.78      0.76       500\n",
      "\n",
      "    accuracy                           0.76      1000\n",
      "   macro avg       0.76      0.76      0.76      1000\n",
      "weighted avg       0.76      0.76      0.76      1000\n",
      "\n",
      "---------------------------------------------------------\n",
      "LinearSVC:\n",
      "C: 0.1\n",
      "max_iter: 500\n",
      "---------------------------------------------------------\n",
      "Linear SVC\t Train Accuracy: 0.88325\t Test Accuracy: 0.75500\n",
      "Classification Report:\n",
      "               precision    recall  f1-score   support\n",
      "\n",
      "           0       0.77      0.73      0.75       500\n",
      "           1       0.74      0.78      0.76       500\n",
      "\n",
      "    accuracy                           0.76      1000\n",
      "   macro avg       0.76      0.76      0.75      1000\n",
      "weighted avg       0.76      0.76      0.75      1000\n",
      "\n",
      "---------------------------------------------------------\n",
      "SGDClassifier:\n",
      "alpha: 0.001\n",
      "loss: 'squared_error'\n",
      "max_iter: 1500\n",
      "---------------------------------------------------------\n",
      "SGDC Classifier\t Train Accuracy: 0.89500\t Test Accuracy: 0.75400\n",
      "Classification Report:\n",
      "               precision    recall  f1-score   support\n",
      "\n",
      "           0       0.77      0.73      0.75       500\n",
      "           1       0.74      0.78      0.76       500\n",
      "\n",
      "    accuracy                           0.75      1000\n",
      "   macro avg       0.75      0.75      0.75      1000\n",
      "weighted avg       0.75      0.75      0.75      1000\n",
      "\n",
      "---------------------------------------------------------\n",
      "Naive Bayes:\n",
      "alpha: 0.8\n",
      "fit_prior: True\n",
      "force_alpha: True\n",
      "---------------------------------------------------------\n",
      "Naive Bayes Classifier\t Train Accuracy: 0.89000\t Test Accuracy: 0.74300\n",
      "Classification Report:\n",
      "               precision    recall  f1-score   support\n",
      "\n",
      "           0       0.73      0.78      0.75       500\n",
      "           1       0.76      0.71      0.73       500\n",
      "\n",
      "    accuracy                           0.74      1000\n",
      "   macro avg       0.74      0.74      0.74      1000\n",
      "weighted avg       0.74      0.74      0.74      1000\n",
      "\n",
      "Model                          Train Accuracy       Test Accuracy       \n",
      "----------------------------------------------------------------------\n",
      "Logistic Regression            0.88650              0.75800\n",
      "Linear SVC                     0.88325              0.75500\n",
      "SGD Classifier                 0.89500              0.75400\n",
      "Naive Bayes                    0.89000              0.74300\n"
     ]
    }
   ],
   "source": [
    "from sklearn.model_selection import GridSearchCV\n",
    "from sklearn.metrics import accuracy_score, classification_report\n",
    "#hyperparameter testing\n",
    "print('Testing for hyperparameters:')\n",
    "print('---------------------------------------------------------')\n",
    "\n",
    "#logistic regression\n",
    "from sklearn.linear_model import LogisticRegression\n",
    "\n",
    "lr_param = {\n",
    "    'solver': ('lbfgs', 'liblinear', 'newton-cg'),\n",
    "    'max_iter': (500, 750, 1000, 1250)\n",
    "}\n",
    "\n",
    "gs_lr = GridSearchCV(lr_model, lr_param, cv=5, n_jobs=-1)\n",
    "gs_lr = gs_lr.fit(X_train, y_train)\n",
    "print('Logistic Regression:')\n",
    "for param_name in sorted(lr_param.keys()):\n",
    "    print(\"%s: %r\" % (param_name, gs_lr.best_params_[param_name]))\n",
    "print('---------------------------------------------------------')\n",
    "\n",
    "# Logistic Regression\n",
    "lr_model = LogisticRegression(max_iter=500, solver='newton-cg')\n",
    "lr_model.fit(X_train, y_train)\n",
    "\n",
    "# Predictions\n",
    "y_pred_lr_train = lr_model.predict(X_train)\n",
    "y_pred_lr_test = lr_model.predict(X_test)\n",
    "\n",
    "# Accuracy scores\n",
    "lr_train_accuracy = accuracy_score(y_train, y_pred_lr_train)\n",
    "lr_test_accuracy = accuracy_score(y_test, y_pred_lr_test)\n",
    "\n",
    "# Print formatted output\n",
    "print(\"Logistic Regression\\t Train Accuracy: {:.5f}\\t Test Accuracy: {:.5f}\".format(lr_train_accuracy, lr_test_accuracy))\n",
    "\n",
    "# print classification report\n",
    "print(\"Classification Report:\\n\", classification_report(y_test, y_pred_lr_test))\n",
    "print('---------------------------------------------------------')\n",
    "\n",
    "\n",
    "\n",
    "from sklearn.svm import LinearSVC\n",
    "\n",
    "#LinearSVC\n",
    "lsvc_param = {\n",
    "    'max_iter': (500, 750, 1000, 2000, 2500),\n",
    "    'C': (0.01, 0.1, 0.5, 1.0, 1.5),\n",
    "}\n",
    "\n",
    "gs_lsvc = GridSearchCV(lsvc_model, lsvc_param, cv=5, n_jobs=-1)\n",
    "gs_lsvc = gs_lsvc.fit(X_train, y_train)\n",
    "print('LinearSVC:')\n",
    "for param_name in sorted(lsvc_param.keys()):\n",
    "    print(\"%s: %r\" % (param_name, gs_lsvc.best_params_[param_name]))\n",
    "print('---------------------------------------------------------')\n",
    "\n",
    "\n",
    "# LinearSVC\n",
    "lsvc_model = LinearSVC(C=0.1, max_iter=500)\n",
    "lsvc_model.fit(X_train, y_train)\n",
    "\n",
    "# Predictions\n",
    "y_pred_lsvc_train = lsvc_model.predict(X_train)\n",
    "y_pred_lsvc_test = lsvc_model.predict(X_test)\n",
    "\n",
    "# Accuracy scores\n",
    "lsvc_train_accuracy = accuracy_score(y_train, y_pred_lsvc_train)\n",
    "lsvc_test_accuracy = accuracy_score(y_test, y_pred_lsvc_test)\n",
    "\n",
    "# Print formatted output\n",
    "print(\"Linear SVC\\t Train Accuracy: {:.5f}\\t Test Accuracy: {:.5f}\".format(lsvc_train_accuracy, lsvc_test_accuracy))\n",
    "\n",
    "# print classification report\n",
    "print(\"Classification Report:\\n\", classification_report(y_test, y_pred_lsvc_test))\n",
    "print('---------------------------------------------------------')\n",
    "\n",
    "#SGDClassifier\n",
    "from sklearn.linear_model import SGDClassifier\n",
    "\n",
    "sgd_param = {\n",
    "    'max_iter': (1500, 1000, 500),\n",
    "    'loss': ('hinge', 'perceptron', 'squared_error'),\n",
    "    'alpha': (0.01, 0.005, 0.001),\n",
    "}\n",
    "\n",
    "gs_sgdc = GridSearchCV(sgdc_model, sgd_param, cv=5, n_jobs=-1)\n",
    "gs_sgdc = gs_sgdc.fit(X_train, y_train)\n",
    "print('SGDClassifier:')\n",
    "for param_name in sorted(sgd_param.keys()):\n",
    "    print(\"%s: %r\" % (param_name, gs_sgdc.best_params_[param_name]))\n",
    "print('---------------------------------------------------------')\n",
    "#  Testing the Hyperparameters for SGDC Classifier\n",
    "sgdc_model = SGDClassifier(alpha=0.001, loss='squared_error', max_iter=1500, random_state=30)\n",
    "sgdc_model.fit(X_train, y_train)\n",
    "\n",
    "# Predictions\n",
    "y_pred_sgdc_train = sgdc_model.predict(X_train)\n",
    "y_pred_sgdc_test = sgdc_model.predict(X_test)\n",
    "\n",
    "# Accuracy scores\n",
    "sgdc_train_accuracy = accuracy_score(y_train, y_pred_sgdc_train)\n",
    "sgdc_test_accuracy = accuracy_score(y_test, y_pred_sgdc_test)\n",
    "\n",
    "# Print formatted output\n",
    "print(\"SGDC Classifier\\t Train Accuracy: {:.5f}\\t Test Accuracy: {:.5f}\".format(sgdc_train_accuracy, sgdc_test_accuracy))\n",
    "\n",
    "# print classification report\n",
    "print(\"Classification Report:\\n\", classification_report(y_test, y_pred_sgdc_test))\n",
    "print('---------------------------------------------------------')\n",
    "\n",
    "\n",
    "\n",
    "\n",
    "\n",
    "\n",
    "#naive bayes\n",
    "from sklearn.naive_bayes import MultinomialNB\n",
    "\n",
    "mnb_param = {\n",
    "    'fit_prior': (True, False),\n",
    "    'force_alpha': (True, False),\n",
    "    'alpha': (1.0, 0.9, 0.8, 0.7, 0.6, 0.5, 0.4, 0.3, 0.2, 0.1),\n",
    "}\n",
    "\n",
    "gs_mnb = GridSearchCV(mnb_model, mnb_param, cv=5, n_jobs=-1)\n",
    "gs_mnb = gs_mnb.fit(X_train, y_train)\n",
    "print('Naive Bayes:')\n",
    "for param_name in sorted(mnb_param.keys()):\n",
    "    print(\"%s: %r\" % (param_name, gs_mnb.best_params_[param_name]))\n",
    "print('---------------------------------------------------------')\n",
    "\n",
    "# Testing the Hyperparameters for Naive Bayes\n",
    "mnb_model = MultinomialNB(alpha=0.8, fit_prior=True, force_alpha=True)\n",
    "mnb_model.fit(X_train, y_train)\n",
    "\n",
    "# Predictions\n",
    "y_pred_mnb_train = mnb_model.predict(X_train)\n",
    "y_pred_mnb_test = mnb_model.predict(X_test)\n",
    "\n",
    "# Accuracy scores\n",
    "mnb_train_accuracy = accuracy_score(y_train, y_pred_mnb_train)\n",
    "mnb_test_accuracy = accuracy_score(y_test, y_pred_mnb_test)\n",
    "\n",
    "# Print formatted output\n",
    "print(\"Naive Bayes Classifier\\t Train Accuracy: {:.5f}\\t Test Accuracy: {:.5f}\".format(mnb_train_accuracy, mnb_test_accuracy))\n",
    "\n",
    "# print classification report\n",
    "print(\"Classification Report:\\n\", classification_report(y_test, y_pred_mnb_test))\n",
    "\n",
    "# Print formatted output\n",
    "print(\"{:<30} {:<20} {:<20}\".format(\"Model\", \"Train Accuracy\", \"Test Accuracy\"))\n",
    "print(\"-\" * 70)\n",
    "\n",
    "# Print new total train/test accuracies post hyperparameter tuning\n",
    "print(\"{:<30} {:.5f} {:>20.5f}\".format(\"Logistic Regression\", lr_train_accuracy, lr_test_accuracy))\n",
    "print(\"{:<30} {:.5f} {:>20.5f}\".format(\"Linear SVC\", lsvc_train_accuracy, lsvc_test_accuracy))\n",
    "print(\"{:<30} {:.5f} {:>20.5f}\".format(\"SGD Classifier\", sgdc_train_accuracy, sgdc_test_accuracy))\n",
    "print(\"{:<30} {:.5f} {:>20.5f}\".format(\"Naive Bayes\", mnb_train_accuracy, mnb_test_accuracy))\n"
   ]
  },
  {
   "cell_type": "markdown",
   "metadata": {
    "id": "eUJKW2aFK0SV"
   },
   "source": [
    "# Deep Learning Network with Transformer"
   ]
  },
  {
   "cell_type": "markdown",
   "metadata": {
    "id": "Oo6nVfLeozV0"
   },
   "source": [
    "Importing necessary libraries for the Deep Learning Network"
   ]
  },
  {
   "cell_type": "code",
   "execution_count": null,
   "metadata": {
    "colab": {
     "base_uri": "https://localhost:8080/"
    },
    "collapsed": true,
    "id": "JdV_3RcDLek_",
    "outputId": "66bc44ff-00c1-46e8-b1b5-8cf72b876489"
   },
   "outputs": [
    {
     "name": "stdout",
     "output_type": "stream",
     "text": [
      "Requirement already satisfied: datasets in /usr/local/lib/python3.11/dist-packages (3.6.0)\n",
      "Requirement already satisfied: filelock in /usr/local/lib/python3.11/dist-packages (from datasets) (3.18.0)\n",
      "Requirement already satisfied: numpy>=1.17 in /usr/local/lib/python3.11/dist-packages (from datasets) (2.0.2)\n",
      "Requirement already satisfied: pyarrow>=15.0.0 in /usr/local/lib/python3.11/dist-packages (from datasets) (18.1.0)\n",
      "Requirement already satisfied: dill<0.3.9,>=0.3.0 in /usr/local/lib/python3.11/dist-packages (from datasets) (0.3.8)\n",
      "Requirement already satisfied: pandas in /usr/local/lib/python3.11/dist-packages (from datasets) (2.2.2)\n",
      "Requirement already satisfied: requests>=2.32.2 in /usr/local/lib/python3.11/dist-packages (from datasets) (2.32.3)\n",
      "Requirement already satisfied: tqdm>=4.66.3 in /usr/local/lib/python3.11/dist-packages (from datasets) (4.67.1)\n",
      "Requirement already satisfied: xxhash in /usr/local/lib/python3.11/dist-packages (from datasets) (3.5.0)\n",
      "Requirement already satisfied: multiprocess<0.70.17 in /usr/local/lib/python3.11/dist-packages (from datasets) (0.70.16)\n",
      "Requirement already satisfied: fsspec<=2025.3.0,>=2023.1.0 in /usr/local/lib/python3.11/dist-packages (from fsspec[http]<=2025.3.0,>=2023.1.0->datasets) (2025.3.0)\n",
      "Requirement already satisfied: huggingface-hub>=0.24.0 in /usr/local/lib/python3.11/dist-packages (from datasets) (0.30.2)\n",
      "Requirement already satisfied: packaging in /usr/local/lib/python3.11/dist-packages (from datasets) (24.2)\n",
      "Requirement already satisfied: pyyaml>=5.1 in /usr/local/lib/python3.11/dist-packages (from datasets) (6.0.2)\n",
      "Requirement already satisfied: aiohttp!=4.0.0a0,!=4.0.0a1 in /usr/local/lib/python3.11/dist-packages (from fsspec[http]<=2025.3.0,>=2023.1.0->datasets) (3.11.15)\n",
      "Requirement already satisfied: typing-extensions>=3.7.4.3 in /usr/local/lib/python3.11/dist-packages (from huggingface-hub>=0.24.0->datasets) (4.13.2)\n",
      "Requirement already satisfied: charset-normalizer<4,>=2 in /usr/local/lib/python3.11/dist-packages (from requests>=2.32.2->datasets) (3.4.1)\n",
      "Requirement already satisfied: idna<4,>=2.5 in /usr/local/lib/python3.11/dist-packages (from requests>=2.32.2->datasets) (3.10)\n",
      "Requirement already satisfied: urllib3<3,>=1.21.1 in /usr/local/lib/python3.11/dist-packages (from requests>=2.32.2->datasets) (2.4.0)\n",
      "Requirement already satisfied: certifi>=2017.4.17 in /usr/local/lib/python3.11/dist-packages (from requests>=2.32.2->datasets) (2025.4.26)\n",
      "Requirement already satisfied: python-dateutil>=2.8.2 in /usr/local/lib/python3.11/dist-packages (from pandas->datasets) (2.9.0.post0)\n",
      "Requirement already satisfied: pytz>=2020.1 in /usr/local/lib/python3.11/dist-packages (from pandas->datasets) (2025.2)\n",
      "Requirement already satisfied: tzdata>=2022.7 in /usr/local/lib/python3.11/dist-packages (from pandas->datasets) (2025.2)\n",
      "Requirement already satisfied: aiohappyeyeballs>=2.3.0 in /usr/local/lib/python3.11/dist-packages (from aiohttp!=4.0.0a0,!=4.0.0a1->fsspec[http]<=2025.3.0,>=2023.1.0->datasets) (2.6.1)\n",
      "Requirement already satisfied: aiosignal>=1.1.2 in /usr/local/lib/python3.11/dist-packages (from aiohttp!=4.0.0a0,!=4.0.0a1->fsspec[http]<=2025.3.0,>=2023.1.0->datasets) (1.3.2)\n",
      "Requirement already satisfied: attrs>=17.3.0 in /usr/local/lib/python3.11/dist-packages (from aiohttp!=4.0.0a0,!=4.0.0a1->fsspec[http]<=2025.3.0,>=2023.1.0->datasets) (25.3.0)\n",
      "Requirement already satisfied: frozenlist>=1.1.1 in /usr/local/lib/python3.11/dist-packages (from aiohttp!=4.0.0a0,!=4.0.0a1->fsspec[http]<=2025.3.0,>=2023.1.0->datasets) (1.6.0)\n",
      "Requirement already satisfied: multidict<7.0,>=4.5 in /usr/local/lib/python3.11/dist-packages (from aiohttp!=4.0.0a0,!=4.0.0a1->fsspec[http]<=2025.3.0,>=2023.1.0->datasets) (6.4.3)\n",
      "Requirement already satisfied: propcache>=0.2.0 in /usr/local/lib/python3.11/dist-packages (from aiohttp!=4.0.0a0,!=4.0.0a1->fsspec[http]<=2025.3.0,>=2023.1.0->datasets) (0.3.1)\n",
      "Requirement already satisfied: yarl<2.0,>=1.17.0 in /usr/local/lib/python3.11/dist-packages (from aiohttp!=4.0.0a0,!=4.0.0a1->fsspec[http]<=2025.3.0,>=2023.1.0->datasets) (1.20.0)\n",
      "Requirement already satisfied: six>=1.5 in /usr/local/lib/python3.11/dist-packages (from python-dateutil>=2.8.2->pandas->datasets) (1.17.0)\n"
     ]
    }
   ],
   "source": [
    "import pandas as pd\n",
    "import torch\n",
    "from torch.utils.data import Dataset # Used implicitly by Hugging Face Dataset\n",
    "from transformers import (\n",
    "    AutoTokenizer,\n",
    "    AutoModelForSequenceClassification,\n",
    "    TrainingArguments,\n",
    "    Trainer,\n",
    "    PreTrainedModel # Type hinting for return\n",
    ")\n",
    "!pip install datasets\n",
    "from datasets import Dataset as HFDataset # Import Hugging Face's Dataset\n",
    "from sklearn.model_selection import train_test_split\n",
    "import numpy as np\n",
    "from sklearn.metrics import accuracy_score, precision_recall_fscore_support\n",
    "\n",
    "import os\n",
    "import sys"
   ]
  },
  {
   "cell_type": "markdown",
   "metadata": {
    "id": "X_8biVn0LCQD"
   },
   "source": [
    "Code from Vincent"
   ]
  },
  {
   "cell_type": "code",
   "execution_count": null,
   "metadata": {
    "id": "LkEFx8MKK3PD"
   },
   "outputs": [],
   "source": [
    "# Models/sentiment_trainer_function.py\n",
    "# Tokenization Function for map()\n",
    "def tokenize_function(examples, tokenizer, max_len):\n",
    "    \"\"\"Applies tokenizer to examples in a batch.\"\"\"\n",
    "    return tokenizer(\n",
    "        examples[\"text\"],\n",
    "        padding=\"max_length\", # Pad to max_length\n",
    "        truncation=True,      # Truncate if longer than max_length\n",
    "        max_length=max_len,\n",
    "    )\n",
    "\n",
    "# Define Metrics Calculation\n",
    "def compute_metrics(eval_pred):\n",
    "    \"\"\"Computes classification metrics from predictions.\"\"\"\n",
    "    logits, labels = eval_pred\n",
    "    predictions = np.argmax(logits, axis=-1)\n",
    "    # Use 'binary' average for 2-class problems\n",
    "    precision, recall, f1, _ = precision_recall_fscore_support(labels, predictions, average='binary')\n",
    "    acc = accuracy_score(labels, predictions)\n",
    "    return {\n",
    "        'accuracy': acc,\n",
    "        'precision': precision,\n",
    "        'recall': recall,\n",
    "        'f1': f1,\n",
    "    }\n",
    "\n",
    "\n",
    "# --- Training Function ---\n",
    "\n",
    "def train_amazon_sentiment_transformer(\n",
    "    X_train_raw: pd.Series,\n",
    "    X_val_raw: pd.Series,\n",
    "    X_test_raw: pd.Series,\n",
    "    y_train: pd.Series,\n",
    "    y_val: pd.Series,\n",
    "    y_test: pd.Series,\n",
    "    model_name: str = 'bert-base-uncased',\n",
    "    output_dir: str = './results_amazon_sentiment',\n",
    "    num_train_epochs: int = 3,\n",
    "    per_device_train_batch_size: int = 16,\n",
    "    per_device_eval_batch_size: int = 16,\n",
    "    max_len: int = 128,\n",
    "):\n",
    "\n",
    "    \"\"\"\n",
    "    Trains a Hugging Face Transformer for sentiment analysis on pre-split data\n",
    "    and returns the trained model.\n",
    "\n",
    "    Args:\n",
    "        X_train_raw (pd.Series): Pandas Series containing raw training text reviews.\n",
    "        X_val_raw (pd.Series): Pandas Series containing raw validation text reviews.\n",
    "        X_test_raw (pd.Series): Pandas Series containing raw testing text reviews.\n",
    "        y_train (pd.Series): Pandas Series containing training labels.\n",
    "        y_val (pd.Series): Pandas Series containing validation labels.\n",
    "        y_test (pd.Series): Pandas Series containing testing labels.\n",
    "        model_name (str): Name of the pre-trained model from Hugging Face Hub.\n",
    "        output_dir (str): Directory to save training checkpoints and results.\n",
    "        num_train_epochs (int): Total number of training epochs.\n",
    "        per_device_train_batch_size (int): Batch size per GPU/CPU for training.\n",
    "        per_device_eval_batch_size (int): Batch size per GPU/CPU for evaluation.\n",
    "        max_len (int): Maximum sequence length for tokenizer padding/truncation.\n",
    "        # Add more args matching TrainingArguments parameters\n",
    "\n",
    "    Returns:\n",
    "        PreTrainedModel: The trained Hugging Face Transformer model.\n",
    "    \"\"\"\n",
    "    print(f\"\\n--- Starting Transformer Training Process ---\")\n",
    "    print(f\"Model: {model_name}, Output Dir: {output_dir}, Epochs: {num_train_epochs}\")\n",
    "    print(f\"Training data size: {len(X_train_raw)}\")\n",
    "    print(f\"Validation data size: {len(X_val_raw)}\")\n",
    "    print(f\"Testing data size: {len(X_test_raw)}\")\n",
    "\n",
    "\n",
    "    # Convert pandas Series to Hugging Face Dataset format\n",
    "    print(\"\\nCreating Hugging Face Datasets from splits...\")\n",
    "    train_dict = {'text': X_train_raw.tolist(), 'label': y_train.tolist()}\n",
    "    val_dict = {'text': X_val_raw.tolist(), 'label': y_val.tolist()}\n",
    "    test_dict = {'text': X_test_raw.tolist(), 'label': y_test.tolist()} # Keep test set as HF dataset too\n",
    "\n",
    "    train_dataset = HFDataset.from_dict(train_dict)\n",
    "    val_dataset = HFDataset.from_dict(val_dict)\n",
    "    test_dataset = HFDataset.from_dict(test_dict)\n",
    "\n",
    "    print(\"Hugging Face Datasets created.\")\n",
    "\n",
    "\n",
    "    # Initialize Tokenizer\n",
    "    print(f\"\\nLoading tokenizer: {model_name}...\")\n",
    "    tokenizer = AutoTokenizer.from_pretrained(model_name)\n",
    "\n",
    "\n",
    "    # Apply tokenization to datasets using map()\n",
    "    print(\"Tokenizing datasets...\")\n",
    "    # Use lambda to pass tokenizer and max_len to tokenize_function\n",
    "    tokenized_train_dataset = train_dataset.map(\n",
    "        lambda examples: tokenize_function(examples, tokenizer, max_len),\n",
    "        batched=True,\n",
    "        remove_columns=[\"text\"] # Remove original text column\n",
    "    )\n",
    "    tokenized_val_dataset = val_dataset.map(\n",
    "        lambda examples: tokenize_function(examples, tokenizer, max_len),\n",
    "        batched=True,\n",
    "        remove_columns=[\"text\"] # Remove original text column\n",
    "    )\n",
    "    tokenized_test_dataset = test_dataset.map(\n",
    "        lambda examples: tokenize_function(examples, tokenizer, max_len),\n",
    "        batched=True,\n",
    "        remove_columns=[\"text\"] # Remove original text column\n",
    "    )\n",
    "    print(\"Tokenization complete.\")\n",
    "\n",
    "\n",
    "    # --- Model Loading ---\n",
    "    print(f\"\\nLoading pre-trained model: {model_name} for sequence classification...\")\n",
    "    model = AutoModelForSequenceClassification.from_pretrained(model_name, num_labels=2)\n",
    "    print(\"Model loaded.\")\n",
    "\n",
    "    # --- Training Arguments ---\n",
    "    print(\"\\nDefining Training Arguments...\")\n",
    "    # Create output directory if it doesn't exist\n",
    "    os.makedirs(output_dir, exist_ok=True)\n",
    "\n",
    "    training_args = TrainingArguments(\n",
    "        output_dir=output_dir,          # Output directory for checkpoints and results\n",
    "        eval_strategy=\"epoch\",          # Evaluate every epoch\n",
    "        save_strategy=\"epoch\",          # Save checkpoint every epoch\n",
    "        save_total_limit=2,             # Limit the number of checkpoints to keep (e.g., keep last 2)\n",
    "        num_train_epochs=num_train_epochs, # Total number of training epochs\n",
    "        per_device_train_batch_size=per_device_train_batch_size, # Batch size per GPU/CPU for training\n",
    "        per_device_eval_batch_size=per_device_eval_batch_size,  # Batch size per GPU/CPU for evaluation\n",
    "        # Add other common arguments or make them function parameters\n",
    "        learning_rate=2e-5,             # Default learning rate\n",
    "        warmup_steps=500,               # Default warmup steps\n",
    "        weight_decay=0.01,              # Default weight decay\n",
    "        logging_dir=f'{output_dir}/logs',# Directory for storing logs\n",
    "        logging_steps=10,               # Log every N update steps\n",
    "        fp16=torch.cuda.is_available(), # Enable mixed precision training if CUDA is available\n",
    "        load_best_model_at_end=True,    # Load the best model found during training at the end\n",
    "        metric_for_best_model=\"accuracy\", # Metric to monitor for best model saving\n",
    "        greater_is_better=True,         # Whether the metric is better when greater\n",
    "        report_to=\"none\"                # Prevent reporting to external services by default\n",
    "    )\n",
    "    print(\"Training Arguments defined.\")\n",
    "\n",
    "    # --- Initialize the Trainer ---\n",
    "    print(\"\\nInitializing Trainer...\")\n",
    "    trainer = Trainer(\n",
    "        model=model,\n",
    "        args=training_args,\n",
    "        train_dataset=tokenized_train_dataset,\n",
    "        eval_dataset=tokenized_val_dataset,\n",
    "        tokenizer=tokenizer,\n",
    "        compute_metrics=compute_metrics\n",
    "    )\n",
    "    print(\"Trainer initialized.\")\n",
    "\n",
    "    # --- Train the Model ---\n",
    "    print(\"\\n--- Starting Model Training ---\")\n",
    "    trainer.train()\n",
    "    print(\"--- Training Complete ---\")\n",
    "\n",
    "    # --- Final Evaluation on Test Set ---\n",
    "    print(\"\\n--- Performing Final Evaluation on Test Set ---\")\n",
    "    # Evaluate on the test set that was held out\n",
    "    test_results = trainer.evaluate(eval_dataset=tokenized_test_dataset)\n",
    "    print(f\"Transformer Test Results: {test_results}\")\n",
    "    print(\"--- Test Evaluation Complete ---\")\n",
    "\n",
    "\n",
    "    # Return the trained model (loaded with best weights if load_best_model_at_end=True)\n",
    "    print(\"\\nReturning the trained Transformer model.\")\n",
    "    return trainer.model"
   ]
  },
  {
   "cell_type": "markdown",
   "metadata": {
    "id": "vRFoyo1Ko5N3"
   },
   "source": [
    "Creating new train and test data for the DLM"
   ]
  },
  {
   "cell_type": "code",
   "execution_count": null,
   "metadata": {
    "id": "-rLMNn8uL5q7"
   },
   "outputs": [],
   "source": [
    "# Fit and transform the text data\n",
    "X_tf = df['text']\n",
    "y_tf = df[\"label\"]\n",
    "\n",
    "# splitting into train and test data\n",
    "X_train_tf, X_test_tf, y_train_tf, y_test_tf = train_test_split(\n",
    "    X_tf, y_tf, stratify=y_tf, test_size=0.2, random_state=30\n",
    ")\n",
    "\n",
    "# for the transformer\n",
    "X_train_tf, X_val, y_train_tf, y_val = train_test_split(\n",
    "    X_train_tf, y_train_tf, stratify=y_train_tf, test_size=0.2, random_state=30\n",
    ")\n",
    "\n",
    "transformer_params = {\n",
    "            'X_train_raw': X_train_tf,\n",
    "            'X_val_raw': X_val,\n",
    "            'X_test_raw': X_test_tf,\n",
    "            'y_train': y_train_tf,\n",
    "            'y_val': y_val,\n",
    "            'y_test': y_test_tf,\n",
    "            'model_name': 'distilbert-base-uncased'\n",
    "            # Add more parameters if needed\n",
    "        }"
   ]
  },
  {
   "cell_type": "markdown",
   "metadata": {
    "id": "2MWz45nT1l8f"
   },
   "source": [
    "Saving the model for myself to load in"
   ]
  },
  {
   "cell_type": "code",
   "execution_count": null,
   "metadata": {
    "id": "snTks9iQzztX"
   },
   "outputs": [],
   "source": [
    "# Save the trained model\n",
    "transformer_model_path = \"/content/\"  # Specify a path to save the model\n",
    "# transformer_model.save_pretrained(model_path)\n",
    "tokenizer = AutoTokenizer.from_pretrained('distilbert-base-uncased')\n",
    "tokenizer.save_pretrained(transformer_model_path)"
   ]
  },
  {
   "cell_type": "code",
   "execution_count": null,
   "metadata": {
    "id": "8PP7i_7C1ngQ"
   },
   "outputs": [],
   "source": [
    "from transformers import AutoModelForSequenceClassification, AutoTokenizer\n",
    "\n",
    "# Define the path where the model is saved\n",
    "model_path = \"/content/SteamReviewsDLN\"\n",
    "\n",
    "# Load the saved model\n",
    "model = AutoModelForSequenceClassification.from_pretrained(model_path)\n",
    "\n",
    "# Load the tokenizer (this is important for proper tokenization)\n",
    "tokenizer = AutoTokenizer.from_pretrained(model_path)"
   ]
  },
  {
   "cell_type": "markdown",
   "metadata": {
    "id": "VcGXf6Qso8US"
   },
   "source": [
    "Method to load a pre-trained model for evaluation"
   ]
  },
  {
   "cell_type": "code",
   "execution_count": null,
   "metadata": {
    "colab": {
     "base_uri": "https://localhost:8080/",
     "height": 468,
     "referenced_widgets": [
      "8f74cdc6862e44829e4148070c6dbfbe",
      "4185fe3544534544a511903f993d2b23",
      "f1d861a2a6be4c188451504215fdf33a",
      "63f56893ce67446f86379bcde56cf134",
      "2ef11258251b4630949a5f93f5e3a423",
      "008d7c0e2c93447fa3beff943674f914",
      "68788f8111854e19910b4f6b0a00ad4f",
      "f2d73d6b3bb24d6b9b9ddb6124d5af57",
      "bfcf4aeacefe48a7be70ef46b590db45",
      "93f99994ffc4408c862491650c7ca27a",
      "e6954363c4a44c6c968f2f80171947c1",
      "e22c368fb3294f1fa453f0a9e36b350e",
      "13aefb8f45354cecb42b94f9c87110a0",
      "fdd056952eb048d1b319a7433e8a1ef3",
      "4684caaa53124e3696f38d3e1f851d3b",
      "cce0f36983a04f6b9c874dd5a0d05898",
      "daa85bb7b20d45e7ad0c920f675a576c",
      "803a4e34ec0e49a7897ba0e0e351ee29",
      "c772a7a070864ac5a4a82d33491ea091",
      "23832e1f8ae040d68b306520dcb8afb8",
      "9249dd7abd564cd5ab6f059d8682459d",
      "f1ddccc0f4ae41a88ef6f7b475d40452"
     ]
    },
    "id": "wl2eT2HA9Hxz",
    "outputId": "1b9c48b4-82c6-4fea-a5f6-2e24e7f483f6"
   },
   "outputs": [
    {
     "name": "stdout",
     "output_type": "stream",
     "text": [
      "--- Model Loaded ---\n",
      "Training Arguments defined.\n"
     ]
    },
    {
     "data": {
      "application/vnd.jupyter.widget-view+json": {
       "model_id": "8f74cdc6862e44829e4148070c6dbfbe",
       "version_major": 2,
       "version_minor": 0
      },
      "text/plain": [
       "Map:   0%|          | 0/3200 [00:00<?, ? examples/s]"
      ]
     },
     "metadata": {},
     "output_type": "display_data"
    },
    {
     "data": {
      "application/vnd.jupyter.widget-view+json": {
       "model_id": "e22c368fb3294f1fa453f0a9e36b350e",
       "version_major": 2,
       "version_minor": 0
      },
      "text/plain": [
       "Map:   0%|          | 0/800 [00:00<?, ? examples/s]"
      ]
     },
     "metadata": {},
     "output_type": "display_data"
    },
    {
     "name": "stdout",
     "output_type": "stream",
     "text": [
      "\n",
      "Initializing Trainer...\n",
      "Trainer initialized.\n",
      "\n",
      "--- Performing Final Evaluation on Test Set ---\n"
     ]
    },
    {
     "name": "stderr",
     "output_type": "stream",
     "text": [
      "<ipython-input-21-53edf5c0fa99>:71: FutureWarning: `tokenizer` is deprecated and will be removed in version 5.0.0 for `Trainer.__init__`. Use `processing_class` instead.\n",
      "  trainer = Trainer(\n"
     ]
    },
    {
     "data": {
      "text/html": [
       "\n",
       "    <div>\n",
       "      \n",
       "      <progress value='50' max='50' style='width:300px; height:20px; vertical-align: middle;'></progress>\n",
       "      [50/50 02:56]\n",
       "    </div>\n",
       "    "
      ],
      "text/plain": [
       "<IPython.core.display.HTML object>"
      ]
     },
     "metadata": {},
     "output_type": "display_data"
    },
    {
     "name": "stdout",
     "output_type": "stream",
     "text": [
      "\n",
      "--- Transformer Test Results ---\n",
      "Loss:       0.5446\n",
      "Accuracy:   0.7512\n",
      "Precision:  0.7506\n",
      "Recall:     0.7525\n",
      "F1 Score:   0.7516\n",
      "Runtime:    185.42 seconds\n",
      "Samples/sec:4.32\n",
      "Steps/sec:  0.27\n",
      "--- Test Evaluation Complete ---\n"
     ]
    }
   ],
   "source": [
    "def test_amazon_sentiment_transformer(X_train, X_val, y_train, y_val, model, tokenizer):\n",
    "    max_len: int = 128\n",
    "\n",
    "    training_args = TrainingArguments(\n",
    "            output_dir='./results_amazon_sentiment',          # Output directory for checkpoints and results\n",
    "            eval_strategy=\"epoch\",          # Evaluate every epoch\n",
    "            save_strategy=\"epoch\",          # Save checkpoint every epoch\n",
    "            save_total_limit=2,             # Limit the number of checkpoints to keep (e.g., keep last 2)\n",
    "            num_train_epochs= 3,  # Total number of training epochs\n",
    "            per_device_train_batch_size= 16, # Batch size per GPU/CPU for training\n",
    "            per_device_eval_batch_size= 16,  # Batch size per GPU/CPU for evaluation\n",
    "            # Add other common arguments or make them function parameters\n",
    "            learning_rate=2e-5,             # Default learning rate\n",
    "            warmup_steps=500,               # Default warmup steps\n",
    "            weight_decay=0.01,              # Default weight decay\n",
    "            logging_dir=f'content/logs',# Directory for storing logs\n",
    "            logging_steps=10,               # Log every N update steps\n",
    "            fp16=torch.cuda.is_available(), # Enable mixed precision training if CUDA is available\n",
    "            load_best_model_at_end=True,    # Load the best model found during training at the end\n",
    "            metric_for_best_model=\"accuracy\", # Metric to monitor for best model saving\n",
    "            greater_is_better=True,         # Whether the metric is better when greater\n",
    "            report_to=\"none\"                # Prevent reporting to external services by default\n",
    "        )\n",
    "    print(\"Training Arguments defined.\")\n",
    "\n",
    "    def tokenize_function(examples, tokenizer, max_len):\n",
    "      \"\"\"Applies tokenizer to examples in a batch.\"\"\"\n",
    "      return tokenizer(\n",
    "          examples[\"text\"],\n",
    "          padding=\"max_length\", # Pad to max_length\n",
    "          truncation=True,      # Truncate if longer than max_length\n",
    "          max_length=max_len,\n",
    "    )\n",
    "\n",
    "    # Define Metrics Calculation\n",
    "    def compute_metrics(eval_pred):\n",
    "        \"\"\"Computes classification metrics from predictions.\"\"\"\n",
    "        logits, labels = eval_pred\n",
    "        predictions = np.argmax(logits, axis=-1)\n",
    "        # Use 'binary' average for 2-class problems\n",
    "        precision, recall, f1, _ = precision_recall_fscore_support(labels, predictions, average='binary')\n",
    "        acc = accuracy_score(labels, predictions)\n",
    "        return {\n",
    "            'accuracy': acc,\n",
    "            'precision': precision,\n",
    "            'recall': recall,\n",
    "            'f1': f1,\n",
    "        }\n",
    "\n",
    "\n",
    "    # defining dict and datasets\n",
    "    train_dict = {'text': X_train.tolist(), 'label': y_train.tolist()}\n",
    "    val_dict = {'text': X_val.tolist(), 'label': y_val.tolist()}\n",
    "\n",
    "    train_dataset = HFDataset.from_dict(train_dict)\n",
    "    val_dataset = HFDataset.from_dict(val_dict)\n",
    "\n",
    "    tokenized_train_dataset = train_dataset.map(\n",
    "    lambda examples: tokenize_function(examples, tokenizer, max_len),\n",
    "    batched=True,\n",
    "    remove_columns=[\"text\"]\n",
    "    )\n",
    "    tokenized_val_dataset = val_dataset.map(\n",
    "        lambda examples: tokenize_function(examples, tokenizer, max_len),\n",
    "        batched=True,\n",
    "        remove_columns=[\"text\"] # Remove original text column\n",
    "    )\n",
    "\n",
    "    # --- Initialize the Trainer ---\n",
    "    print(\"\\nInitializing Trainer...\")\n",
    "    trainer = Trainer(\n",
    "        model=model,\n",
    "        args=training_args,\n",
    "        train_dataset=tokenized_train_dataset,\n",
    "        eval_dataset=tokenized_val_dataset,\n",
    "        tokenizer=tokenizer,\n",
    "        compute_metrics=compute_metrics\n",
    "    )\n",
    "    print(\"Trainer initialized.\")\n",
    "\n",
    "    # --- Final Evaluation on Test Set ---\n",
    "    print(\"\\n--- Performing Final Evaluation on Test Set ---\")\n",
    "    # Evaluate on the test set that was held out\n",
    "    test_results = trainer.evaluate(eval_dataset=tokenized_val_dataset)\n",
    "    print(\"\\n--- Transformer Test Results ---\")\n",
    "    print(f\"Loss:       {test_results['eval_loss']:.4f}\")\n",
    "    print(f\"Accuracy:   {test_results['eval_accuracy']:.4f}\")\n",
    "    print(f\"Precision:  {test_results['eval_precision']:.4f}\")\n",
    "    print(f\"Recall:     {test_results['eval_recall']:.4f}\")\n",
    "    print(f\"F1 Score:   {test_results['eval_f1']:.4f}\")\n",
    "    print(f\"Runtime:    {test_results['eval_runtime']:.2f} seconds\")\n",
    "    print(f\"Samples/sec:{test_results['eval_samples_per_second']:.2f}\")\n",
    "    print(f\"Steps/sec:  {test_results['eval_steps_per_second']:.2f}\")\n",
    "    print(\"--- Test Evaluation Complete ---\")\n",
    "\n",
    "def load_model_eval(model_path):\n",
    "  from transformers import AutoModelForSequenceClassification, AutoTokenizer\n",
    "\n",
    "  # Define the path where the model is saved\n",
    "  model_path = model_path\n",
    "\n",
    "  # Load the saved model\n",
    "  model = AutoModelForSequenceClassification.from_pretrained(model_path)\n",
    "\n",
    "  # Load the tokenizer (this is important for proper tokenization)\n",
    "  tokenizer = AutoTokenizer.from_pretrained(model_path)\n",
    "\n",
    "  print(\"--- Model Loaded ---\")\n",
    "\n",
    "  # Runs the transformer method\n",
    "  test_amazon_sentiment_transformer(X_train_tf, X_val, y_train_tf, y_val, model, tokenizer)\n",
    "\n",
    "# --- Test\n",
    "\n",
    "load_model_eval(\"/content/SteamReviewsDLN\")\n",
    "\n"
   ]
  },
  {
   "cell_type": "markdown",
   "metadata": {
    "id": "TCMPA72go-H-"
   },
   "source": [
    "Testing the Model given a inputted Review"
   ]
  },
  {
   "cell_type": "code",
   "execution_count": null,
   "metadata": {
    "colab": {
     "base_uri": "https://localhost:8080/"
    },
    "id": "8IsA0Z5j6PQc",
    "outputId": "89e35cc3-7171-49da-a471-aa9072ea11bc"
   },
   "outputs": [
    {
     "name": "stdout",
     "output_type": "stream",
     "text": [
      "Please enter your review text: i like\n",
      "Predicted class: 1\n"
     ]
    }
   ],
   "source": [
    "import torch\n",
    "\n",
    "# Example text input for inference\n",
    "text = input(\"Please enter your review text: \")\n",
    "\n",
    "# Tokenize the text input\n",
    "inputs = tokenizer(text, padding=True, truncation=True, return_tensors=\"pt\", max_length=128)\n",
    "\n",
    "# Ensure the model is in evaluation mode (important for inference)\n",
    "model.eval()\n",
    "\n",
    "# Run the model to get the prediction\n",
    "with torch.no_grad():  # Disable gradient calculations for inference\n",
    "    outputs = model(**inputs)\n",
    "\n",
    "# Get the predicted class (0 or 1, depending on your sentiment task)\n",
    "predictions = torch.argmax(outputs.logits, dim=-1)\n",
    "\n",
    "# Print the prediction\n",
    "print(\"Predicted class:\", predictions.item())\n"
   ]
  }
 ],
 "metadata": {
  "colab": {
   "provenance": [],
   "toc_visible": true
  },
  "kernelspec": {
   "display_name": "Python 3",
   "name": "python3"
  },
  "language_info": {
   "name": "python"
  }
 },
 "nbformat": 4,
 "nbformat_minor": 0
}
